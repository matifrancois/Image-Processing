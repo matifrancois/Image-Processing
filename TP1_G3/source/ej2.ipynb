{
 "cells": [
  {
   "cell_type": "markdown",
   "id": "internal-valve",
   "metadata": {},
   "source": [
    "# Procesamiento de Imágenes - Trabajo Práctico N°1\n",
    "## Grupo 3\n",
    "* Santiago Arribere\n",
    "* Matías Francois\n",
    "* Joaquín Gaytan\n",
    "* Pablo Scheinfeld\n",
    "\n",
    "## Ejercicio 2\n",
    "\n",
    "Se toma una fotografía de una superficie totalmetne enfocada a 1m de distancia utilizando una cámara con una distancia focal de 35mm, con un CCD de 10mm x 10mm con 1 Mpx de resolucion. Se desea calcular cuantos milímiteros representa una distancia de un pixel sobre dicha imagen"
   ]
  },
  {
   "cell_type": "markdown",
   "id": "united-davis",
   "metadata": {},
   "source": [
    "### Resolución\n",
    "\n",
    "Trabajando con una resolución de 1 Mpx y un sensor de 10mm x 10mm es posible determinar el tamaño de los pixeles.\n",
    "\n",
    "\n",
    "Siendo que el sensor tiene un tamaño de 1000px x 1000px, se concluye que cada pixel tiene un tamaño de $10 \\mu m$ x $10 \\mu m$\n",
    "\n",
    "<div style=\"text-align:center\"><img src=\"assets/ej2/Ej2_esquema.png\" width=600></div>\n",
    "\n",
    "Es posible entender a la cámara como un sistema lente-sensor, para el cual se puede calcular la resolución espacial"
   ]
  },
  {
   "cell_type": "markdown",
   "id": "dimensional-disability",
   "metadata": {},
   "source": [
    "Sabiendo que \n",
    "$$\\theta_1 = \\theta_2$$ \n",
    "se tiene que \n",
    "$$tg\\left(\\frac{\\theta_1}{2}\\right) =  tg\\left(\\frac{\\theta_2}{2}\\right)$$\n",
    "\n",
    "$$\\frac{0.5 \\cdot X}{1m} = \\frac{0.5px}{35mm} = \\frac{0.5 \\cdot 10\\mu m}{35mm}$$\n",
    "Por lo tanto 1px representa una distancia:\n",
    "$$X = \\frac{10 \\mu m}{35 mm}\\cdot 1m = 0.286 mm$$"
   ]
  }
 ],
 "metadata": {
  "kernelspec": {
   "display_name": "Python 3",
   "language": "python",
   "name": "python3"
  },
  "language_info": {
   "codemirror_mode": {
    "name": "ipython",
    "version": 3
   },
   "file_extension": ".py",
   "mimetype": "text/x-python",
   "name": "python",
   "nbconvert_exporter": "python",
   "pygments_lexer": "ipython3",
   "version": "3.9.2"
  }
 },
 "nbformat": 4,
 "nbformat_minor": 5
}
