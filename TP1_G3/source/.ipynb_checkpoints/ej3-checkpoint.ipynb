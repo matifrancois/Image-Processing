{
 "cells": [
  {
   "cell_type": "markdown",
   "source": [
    "## Ejercicio 3\r\n",
    "En el presente ejercicio se plateó medir la resolución real de una cámara y comparar el valor obtenido con el valor comercial. Para realizarlo se utilizó una cámara digital Panasonic DMC-FH6 de 14,1 megapíxeles (https://www.amazon.com/-/es/Panasonic-DMC-FH6-14-Megapixel-Digital-Camera/dp/B00728Z8U0).\r\n",
    "\r\n",
    "<img src=\"../assets/ej3/camara.jpg\" width=300>"
   ],
   "metadata": {}
  },
  {
   "cell_type": "markdown",
   "source": [
    "### Diagrama ISO 12233\r\n",
    "En primer lugar, se situó un diagrama ISO 12233 en una pared. Mediante este diagrama es posible medir distintas características de la cámara aunque para este caso la resolución es la única variable de interés. El proceso para obtener esta medición es fotografiar el diagrama e identificar el punto de la escala donde la cámara ya no es capaz de resolver las líneas. Esto se realiza en el sector del diagrama donde se hallan las líneas que van progresivamente desde el centro hacia afuera aumentando su espesor y se realiza tanto en la escala horizontal como en la vertical. Tras identificar este punto es necesario medir el espesor de las líneas, el cual se corresponderá con el alto (o ancho) del píxel de la imagen. Así, el último paso es calcular la cantidad de píxeles que componen la imagen. Esto se realiza midiendo el área fotografiada y dividiendo la medida por el tamaño de píxel obtenido (espesor de las líneas). Una vez calculadas las cantidades de píxeles horizontales y verticales se las multiplica entre sí para obtener la resolución real de la cámara.\r\n",
    "\r\n",
    "<img src=\"../assets/ej3/iso-rag.jpg\" width=600>"
   ],
   "metadata": {}
  },
  {
   "cell_type": "markdown",
   "source": [
    "### Fotografía utilizando trípode\r\n",
    "A fin de calcular el espesor con el menor error posible, fue necesario fotografiar el diagrama a una distancia tal que el espesor de las líneas donde se deja de resolver no fuera demasiado pequeño. Así, se situó la cámara a alrededor de 1,2m de distancia de la pared y se fotografió el diagrama. En la siguiente figura se puede observar la fotografía obtenida colocando la cámara sobre un trípode.\r\n",
    "\r\n",
    "<img src=\"../assets/ej3/tripode.JPG\" width=800>\r\n"
   ],
   "metadata": {}
  },
  {
   "cell_type": "markdown",
   "source": [
    "El área total fotografiada es de 167cm de ancho x 125cm de alto.\r\n",
    "Haciendo zoom en la imagen se identificó que el valor donde se dejan de resolver las líneas es 4,5 (tanto vertical como horizontalmente). En este punto, el espesor de las líneas es de 0,39mm.\r\n",
    "\r\n",
    "<img src=\"../assets/ej3/tripodecut.PNG\" width=600>"
   ],
   "metadata": {}
  },
  {
   "cell_type": "markdown",
   "source": [
    "Habiendo obtenido el espesor de las líneas se calculó la cantidad de píxeles que componen la imagen. \r\n",
    "\r\n",
    "Horizontalmente:\r\n",
    "\r\n",
    "$\\frac{1670 mm}{0,39 mm/píxel} = 4282$ píxeles\r\n",
    "\r\n",
    "Análogamente, de forma vertical:\r\n",
    "\r\n",
    "$\\frac{1250 mm}{0,39 mm/píxel} = 3205$ píxeles\r\n",
    "\r\n",
    " Multiplicando alto y ancho se obtiene como resolución total **13,72 megapíxeles**.\r\n",
    "\r\n"
   ],
   "metadata": {}
  },
  {
   "cell_type": "markdown",
   "source": [
    "### Sin utilizar trípode\r\n",
    "El mismo proceso fue realizado fotografiando el diagrama sin utilizar un trípode.\r\n",
    "\r\n",
    "<img src=\"../assets/ej3/manual.JPG\" width=600>"
   ],
   "metadata": {}
  },
  {
   "cell_type": "markdown",
   "source": [
    "En la siguiente imagen se comparan los puntos donde se dejan de reconocer las líneas contiguas utilizando y sin utilizar trípode. Se puede apreciar que sin utilizar el trípode la resolución baja en cierta medida y en 4 es de mucha dificultad reconocer las líneas.\r\n",
    "\r\n",
    "<img src=\"../assets/ej3/compare.png\" width=600>"
   ],
   "metadata": {}
  },
  {
   "cell_type": "markdown",
   "source": [
    "A partir de esto, se midió el espesor de las líneas en 4 y se obtuvo un valor de 0,44mm. Entonces, realizando los mismos cálculos que anteriormente, pero en este caso con el nuevo valor de espesor resulta:\r\n",
    "\r\n",
    "$\\frac{1670 mm \\cdot 1250 mm}{0,44 mm/píxel \\cdot 0,44 mm/píxel} = $ **10,8 megapíxeles**"
   ],
   "metadata": {}
  },
  {
   "cell_type": "markdown",
   "source": [
    "### Con trípode a menor distancia\r\n",
    "\r\n",
    "A modo de verificar los resultados obtenidos anteriormente, se volvió a realizar el experimento pero esta vez a una distancia menor, de 90cm desde la pared donde se ubica el diagrama. En este caso, el área fotografiada es de 123cm de ancho x 92cm de alto.\r\n",
    "A continuación se observa la fotografía capturada.\r\n",
    "\r\n",
    "<img src=\"../assets/ej3/tripode2.JPG\" width=800>"
   ],
   "metadata": {}
  },
  {
   "cell_type": "markdown",
   "source": [
    "A esta distancia, el valor donde la cámara deja de ser capaz de resolver líneas contiguas es de 6.\r\n",
    "\r\n",
    "<img src=\"../assets/ej3/cuttrip2.png\" width=400>"
   ],
   "metadata": {}
  },
  {
   "cell_type": "markdown",
   "source": [
    "En dicho valor, las líneas presentan un espesor de 0,29mm.\r\n",
    "De esta forma se calcula la resolución real como:\r\n",
    "\r\n",
    "$\\frac{1230 mm \\cdot 920 mm }{0,29 mm/píxel \\cdot 0,29 mm/píxel} = 13,46$ megapíxeles\r\n",
    "\r\n",
    "Esta vez la resolución real calculada es de **13,46 megapíxeles**, algo menor que en el caso anterior -con trípode-. Sin embargo, la diferencia entre los resultados es pequeña y se puede deber tanto a errores de medición como a diferencias lumínicas.\r\n"
   ],
   "metadata": {}
  },
  {
   "cell_type": "markdown",
   "source": [
    "### Resultados\r\n",
    "\r\n",
    "Para analizar los resultados obtenidos es necesario considerar que la resolución comercial de la cámara utilizada es de 14,1 megapíxeles. Los valores calculados utilizando trípode a distancias de 1,2m y 0,9m de distancia de la pared fotografiada fueron de 13,72MP y 13,46MP respectivamente. Estos valores son muy cercanos al valor comercial y se encuentran dentro de un rango de error tolerable. Sin embargo, al no utilizar trípode se obtuvo una resolución mucho menor, de tan solo 10,8 megapíxeles. Esta diferencia se puede explicar dado que sin utilizar una base de apoyo, la cámara sufre pequeños movimientos al momento de sacar una fotografía, los cuales provocan un efecto de difuminado (“blur”) que se aprecian en menor o mayor medida dependiendo de lo brusco que haya sido el movimiento. El efecto de difuminado creado trae como consecuencia que ya no se puedan resolver líneas que normalmente se podrían, implicando una disminución en la resolución real de la fotografía. "
   ],
   "metadata": {}
  }
 ],
 "metadata": {
  "orig_nbformat": 4,
  "language_info": {
   "name": "python",
   "version": "3.9.2"
  },
  "kernelspec": {
   "name": "python3",
   "display_name": "Python 3.9.2 64-bit"
  },
  "interpreter": {
   "hash": "35d319f83ab08ecd497627408ea36f4ad0a0ef0ec31f33b5bf93fec9ccad80dc"
  }
 },
 "nbformat": 4,
 "nbformat_minor": 2
}