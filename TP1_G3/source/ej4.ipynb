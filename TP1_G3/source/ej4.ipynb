{
 "cells": [
  {
   "cell_type": "markdown",
   "metadata": {},
   "source": [
    "# Procesamiento de Imágenes - Trabajo Práctico N°1\n",
    "## Grupo 3\n",
    "* Santiago Arribere\n",
    "* Matías Francois\n",
    "* Joaquín Gaytan\n",
    "* Pablo Scheinfeld\n",
    "\n",
    "# Ejercicio 4\n",
    "\n",
    "En el presente ejercicio se brindan 4 cuadrados dispuestos de dos en dos, los mismos poseen diferente valor de luminancia para el fondo como muestra la figura 1.\n",
    "De esta manera lo que se propone es mover la luminancia de uno de los cuadrados centrales hasta que se aprecie con la misma luminancia que el otro cuadrado central. \n",
    "\n",
    "\n",
    "\n",
    "Para esta experiencia se proponen diferentes experimentos, todos ellos fueron probados 3 veces en 2 personas diferentes para poder comprobar la repetitividad de los mismos.\n",
    "\n",
    "## Aclaraciones previas\n",
    "\n",
    "Para correr esta notebook recomendamos trabajar en un entorno virtual nuevo para evitar conflictos a la hora de instalar las liberias necesarias para que la notebook funcione de manera correcta, de esta manera es necesario instalar las siguientes dependencias:\n",
    "\n",
    "ipython\n",
    "matplotlib\n",
    "numpy\n",
    "ipywidgets\n",
    "\n",
    "## Aumento Progresivo\n",
    "\n",
    "En el siguiente Experimento se realiza un aumento progresivo del valor de luminancia del cuadrado central de la derecha en el arreglo de imágenes. De esta manera el cuadrado central de la derecha empieza con valor 0 de luminancia (negro puro) y el sujeto que forma parte del experimento tiene que observar la imagen y parar la celda cuando considere que ambos cuadrados centrales presentan la misma luminancia, cuando lo haga el programa retornará en un comentario el valor de luminancia que efectivamente tenia el cuadrado y ese valor se podrá contrastar con el valor 127 que es el que tiene el cuadrado central de la izquierda (en escala de 0 a 255)."
   ]
  },
  {
   "cell_type": "code",
   "execution_count": 1,
   "metadata": {},
   "outputs": [
    {
     "name": "stdout",
     "output_type": "stream",
     "text": [
      "El valor central fue: 33 comparado con 127.\n"
     ]
    }
   ],
   "source": [
    "import matplotlib.pyplot as plt\r\n",
    "import numpy as np\r\n",
    "from IPython.display import clear_output\r\n",
    "import time\r\n",
    "Ext1 = 63\r\n",
    "Ext2 = 223\r\n",
    "Int1 = 127\r\n",
    "Int2 = 0\r\n",
    "\r\n",
    "try:\r\n",
    "    while True:\r\n",
    "        a = np.array([Ext1, Ext1, Ext1, Ext2,Ext2,Ext2 ,Ext1 ,Int1 ,Ext1,Ext2, Int2, Ext2, Ext1,Ext1,Ext1 ,Ext2 ,Ext2 ,Ext2]).reshape(3, 6)\r\n",
    "        clear_output(wait=True)\r\n",
    "        plt.imshow(a, cmap = \"gray\", vmin=0, vmax=255)\r\n",
    "        plt.plot()\r\n",
    "        plt.title(\"Stop the cell when you see both squares with the same color\")\r\n",
    "        plt.show()\r\n",
    "        time.sleep(0.01)\r\n",
    "        Int2 = (Int2 + 1)%255\r\n",
    "\r\n",
    "except KeyboardInterrupt:\r\n",
    "    print(\"El valor central fue: \" + str(Int2) + \" comparado con 127.\")\r\n",
    "    pass"
   ]
  },
  {
   "cell_type": "markdown",
   "metadata": {},
   "source": [
    "## Resultados\r\n",
    "\r\n",
    "Los resultados de este experimento fueron los siguientes:\r\n",
    "\r\n",
    "| Número de prueba | Sujeto 1 | Sujeto 2 | Sujeto 3 |\r\n",
    "|:----------------:|:--------:|:--------:|:--------:|\r\n",
    "|         1        |     87   |    97    |   110    |\r\n",
    "|         2        |    100   |   100    |   116    |\r\n",
    "|         3        |    101   |   105    |   122    |"
   ]
  },
  {
   "cell_type": "markdown",
   "metadata": {},
   "source": [
    "## Disminución Progresiva\r\n",
    "\r\n",
    "El siguiente experimento se parece bastante al anterior sólo que en este caso se varía el valor del cuadrado partiendo desde el valor 255 (blanco puro) y progresivamente este va disminuyendo su valor hacia el gris mas ocuro y finalmente negro, la persona que realiza el estudio tiene que parar la celda cuando considere que ambos cuadrados centrales presentan la misma luminancia, mostrandose el valor de la misma al final del experimento para poder contrastar con el valor 127 que sería el valor buscado para que ambos cuadrados presenten igual luminancia real (no persivida)."
   ]
  },
  {
   "cell_type": "code",
   "execution_count": 2,
   "metadata": {},
   "outputs": [
    {
     "name": "stdout",
     "output_type": "stream",
     "text": [
      "El valor central fue: 190 comparado con 127.\n"
     ]
    }
   ],
   "source": [
    "import matplotlib.pyplot as plt\r\n",
    "import numpy as np\r\n",
    "from IPython.display import clear_output\r\n",
    "import time\r\n",
    "Ext1 = 63\r\n",
    "Ext2 = 223\r\n",
    "Int1 = 127\r\n",
    "Int2 = 255\r\n",
    "\r\n",
    "try:\r\n",
    "    while True:\r\n",
    "        a = np.array([Ext1, Ext1, Ext1, Ext2,Ext2,Ext2 ,Ext1 ,Int1 ,Ext1,Ext2, Int2, Ext2, Ext1,Ext1,Ext1 ,Ext2 ,Ext2 ,Ext2]).reshape(3, 6)\r\n",
    "        clear_output(wait=True)\r\n",
    "        plt.imshow(a, cmap = \"gray\", vmin=0, vmax=255)\r\n",
    "        plt.plot()\r\n",
    "        plt.title(\"Stop the cell when you see both squares with the same color\")\r\n",
    "        plt.show()\r\n",
    "        time.sleep(0.01)\r\n",
    "        Int2 = (Int2 - 1)%255\r\n",
    "\r\n",
    "except KeyboardInterrupt:\r\n",
    "    print(\"El valor central fue: \" + str(Int2) + \" comparado con 127.\")\r\n",
    "    pass"
   ]
  },
  {
   "cell_type": "markdown",
   "metadata": {},
   "source": [
    "## Resultados\r\n",
    "\r\n",
    "Los resultados de este experimento fueron los siguientes:\r\n",
    "\r\n",
    "| Número de prueba | Sujeto 1 | Sujeto 2 | Sujeto 3 |\r\n",
    "|:----------------:|:--------:|:--------:|:--------:|\r\n",
    "|         1        |    122   |    117   |    112   |\r\n",
    "|         2        |    122   |    123   |    110   |\r\n",
    "|         3        |    127   |    127   |    119   |"
   ]
  },
  {
   "cell_type": "markdown",
   "metadata": {},
   "source": [
    "## Modificacion manual\r\n",
    "\r\n",
    "En este experimento los cuadrados parten con igual valor de luminancia pero los sujetos tienen que mover al cuadrado de la derecha de forma tal de que observe que las luminancias de ambos cuadrados centrales coinciden. Para eso se provee una interfaz gráfica de usuario (GUI) con 5 botones, que permiten el ajuste grueso y fino de la luminancia hacia arriba y hacia abajo y un boton para finalizar el experimento cuando se considera que ambos botones presentan un mismo valor de luminancia aparente."
   ]
  },
  {
   "cell_type": "code",
   "execution_count": 3,
   "metadata": {},
   "outputs": [
    {
     "name": "stdout",
     "output_type": "stream",
     "text": [
      "Hi, select some button (not the finish one) to start :D\n"
     ]
    },
    {
     "data": {
      "application/vnd.jupyter.widget-view+json": {
       "model_id": "631e13c141c04c578a51973cb445a87f",
       "version_major": 2,
       "version_minor": 0
      },
      "text/plain": [
       "HBox(children=(VBox(children=(Button(description='Down (-5)', style=ButtonStyle()),)), VBox(children=(Button(d…"
      ]
     },
     "metadata": {},
     "output_type": "display_data"
    }
   ],
   "source": [
    "import ipywidgets as widgets\r\n",
    "import matplotlib.pyplot as plt\r\n",
    "import numpy as np\r\n",
    "from IPython.display import clear_output\r\n",
    "import time\r\n",
    "from ipywidgets import Button, HBox, VBox\r\n",
    "\r\n",
    "Ext1 = 63\r\n",
    "Ext2 = 223\r\n",
    "Int1 = 127\r\n",
    "Int2 = 127\r\n",
    "\r\n",
    "button1 = widgets.Button(description='Down (-5)')\r\n",
    "button2 = widgets.Button(description='Down (-1)')\r\n",
    "button5 = widgets.Button(description='Finish')\r\n",
    "button3 = widgets.Button(description='Up (+1)')\r\n",
    "button4 = widgets.Button(description='Up (+5)')\r\n",
    "out = widgets.Output()\r\n",
    "\r\n",
    "def on_button1_clicked(b):\r\n",
    "    with out:\r\n",
    "        global Int2 \r\n",
    "        Int2 = Int2 - 5\r\n",
    "        a = np.array([Ext1, Ext1, Ext1, Ext2,Ext2,Ext2 ,Ext1 ,Int1 ,Ext1,Ext2, Int2, Ext2, Ext1,Ext1,Ext1 ,Ext2 ,Ext2 ,Ext2]).reshape(3, 6)\r\n",
    "        clear_output(wait=True)\r\n",
    "        plt.imshow(a, cmap = \"gray\", vmin=0, vmax=255)\r\n",
    "        plt.plot()\r\n",
    "        plt.title(\"Stop the cell when you see both squares with the same color\")\r\n",
    "        plt.show()\r\n",
    "\r\n",
    "def on_button2_clicked(b):\r\n",
    "    with out:\r\n",
    "        global Int2 \r\n",
    "        Int2 = Int2 - 1\r\n",
    "        a = np.array([Ext1, Ext1, Ext1, Ext2,Ext2,Ext2 ,Ext1 ,Int1 ,Ext1,Ext2, Int2, Ext2, Ext1,Ext1,Ext1 ,Ext2 ,Ext2 ,Ext2]).reshape(3, 6)\r\n",
    "        clear_output(wait=True)\r\n",
    "        plt.imshow(a, cmap = \"gray\", vmin=0, vmax=255)\r\n",
    "        plt.plot()\r\n",
    "        plt.title(\"Stop the cell when you see both squares with the same color\")\r\n",
    "        plt.show()\r\n",
    "\r\n",
    "def on_button3_clicked(b):\r\n",
    "    with out:\r\n",
    "        global Int2 \r\n",
    "        Int2 = Int2 + 1\r\n",
    "        a = np.array([Ext1, Ext1, Ext1, Ext2,Ext2,Ext2 ,Ext1 ,Int1 ,Ext1,Ext2, Int2, Ext2, Ext1,Ext1,Ext1 ,Ext2 ,Ext2 ,Ext2]).reshape(3, 6)\r\n",
    "        clear_output(wait=True)\r\n",
    "        plt.imshow(a, cmap = \"gray\", vmin=0, vmax=255)\r\n",
    "        plt.plot()\r\n",
    "        plt.title(\"Stop the cell when you see both squares with the same color\")\r\n",
    "        plt.show()\r\n",
    "\r\n",
    "def on_button4_clicked(b):\r\n",
    "    with out:\r\n",
    "        global Int2 \r\n",
    "        Int2 = Int2 + 5\r\n",
    "        a = np.array([Ext1, Ext1, Ext1, Ext2,Ext2,Ext2 ,Ext1 ,Int1 ,Ext1,Ext2, Int2, Ext2, Ext1,Ext1,Ext1 ,Ext2 ,Ext2 ,Ext2]).reshape(3, 6)\r\n",
    "        clear_output(wait=True)\r\n",
    "        plt.imshow(a, cmap = \"gray\", vmin=0, vmax=255)\r\n",
    "        plt.plot()\r\n",
    "        plt.title(\"Stop the cell when you see both squares with the same color\")\r\n",
    "        plt.show()\r\n",
    "\r\n",
    "def on_button5_clicked(b):\r\n",
    "    with out:\r\n",
    "        global Int2 \r\n",
    "        clear_output(wait=True)\r\n",
    "        print(\"The value was: \" + str(Int2) + \" compare that with 127\")\r\n",
    "        \r\n",
    "\r\n",
    "button1.on_click(on_button1_clicked)\r\n",
    "button2.on_click(on_button2_clicked)\r\n",
    "button3.on_click(on_button3_clicked)\r\n",
    "button4.on_click(on_button4_clicked)\r\n",
    "button5.on_click(on_button5_clicked)\r\n",
    "\r\n",
    "left_box2 = VBox([button1])\r\n",
    "left_box1 = VBox([button2])\r\n",
    "central = VBox([button5])\r\n",
    "right_box1 = VBox([button3])\r\n",
    "right_box2 = VBox([button4])\r\n",
    "print(\"Hi, select some button (not the finish one) to start :D\")\r\n",
    "HBox([left_box2, left_box1, central, right_box1, right_box2, out])\r\n"
   ]
  },
  {
   "cell_type": "markdown",
   "metadata": {},
   "source": [
    "## Resultados\n",
    "\n",
    "Los resultados de este experimento fueron los siguientes:\n",
    "\n",
    "| Número de prueba | Sujeto 1 | Sujeto 2 | Sujeto 3 |\n",
    "|:----------------:|:--------:|:--------:|:--------:|\n",
    "|         1        |    150   |    151   |   136    |\n",
    "|         2        |    153   |    152   |   131    |\n",
    "|         3        |    152   |    147   |   133    |"
   ]
  },
  {
   "cell_type": "markdown",
   "metadata": {},
   "source": [
    "## Modificacion manual\r\n",
    "\r\n",
    "El siguiente experimento es similar al anterior solo que en este los sujetos tienen que mover al cuadrado de la izquierda de forma tal que se observe que las luminancias de ambos cuadrados centrales coinciden. Para eso se provee una interfaz gráfica de usuario (GUI) con 5 botones como en el caso anterior, que permiten el ajuste grueso y fino de la luminancia hacia arriba y hacia abajo y un boton para finalizar el experimento cuando se considera que ambos botones presentan un mismo valor de luminancias aparente."
   ]
  },
  {
   "cell_type": "code",
   "execution_count": 4,
   "metadata": {},
   "outputs": [
    {
     "name": "stdout",
     "output_type": "stream",
     "text": [
      "Hi, select some button (not the finish one) to start :D\n"
     ]
    },
    {
     "data": {
      "application/vnd.jupyter.widget-view+json": {
       "model_id": "55df1b42fb1344e6bdd112e9ba3197d1",
       "version_major": 2,
       "version_minor": 0
      },
      "text/plain": [
       "HBox(children=(VBox(children=(Button(description='Down (-5)', style=ButtonStyle()),)), VBox(children=(Button(d…"
      ]
     },
     "metadata": {},
     "output_type": "display_data"
    }
   ],
   "source": [
    "import ipywidgets as widgets\r\n",
    "import matplotlib.pyplot as plt\r\n",
    "import numpy as np\r\n",
    "from IPython.display import clear_output\r\n",
    "import time\r\n",
    "from ipywidgets import Button, HBox, VBox\r\n",
    "\r\n",
    "Ext1 = 63\r\n",
    "Ext2 = 223\r\n",
    "Int1 = 127\r\n",
    "Int2 = 127\r\n",
    "\r\n",
    "button1 = widgets.Button(description='Down (-5)')\r\n",
    "button2 = widgets.Button(description='Down (-1)')\r\n",
    "button5 = widgets.Button(description='Finish')\r\n",
    "button3 = widgets.Button(description='Up (+1)')\r\n",
    "button4 = widgets.Button(description='Up (+5)')\r\n",
    "out = widgets.Output()\r\n",
    "\r\n",
    "def on_button1_clicked(b):\r\n",
    "    with out:\r\n",
    "        global Int1 \r\n",
    "        Int1 = Int1 - 5\r\n",
    "        a = np.array([Ext1, Ext1, Ext1, Ext2,Ext2,Ext2 ,Ext1 ,Int1 ,Ext1,Ext2, Int2, Ext2, Ext1,Ext1,Ext1 ,Ext2 ,Ext2 ,Ext2]).reshape(3, 6)\r\n",
    "        clear_output(wait=True)\r\n",
    "        plt.imshow(a, cmap = \"gray\", vmin=0, vmax=255)\r\n",
    "        plt.plot()\r\n",
    "        plt.title(\"Stop the cell when you see both squares with the same color\")\r\n",
    "        plt.show()\r\n",
    "\r\n",
    "def on_button2_clicked(b):\r\n",
    "    with out:\r\n",
    "        global Int1 \r\n",
    "        Int1 = Int1 - 1\r\n",
    "        a = np.array([Ext1, Ext1, Ext1, Ext2,Ext2,Ext2 ,Ext1 ,Int1 ,Ext1,Ext2, Int2, Ext2, Ext1,Ext1,Ext1 ,Ext2 ,Ext2 ,Ext2]).reshape(3, 6)\r\n",
    "        clear_output(wait=True)\r\n",
    "        plt.imshow(a, cmap = \"gray\", vmin=0, vmax=255)\r\n",
    "        plt.plot()\r\n",
    "        plt.title(\"Stop the cell when you see both squares with the same color\")\r\n",
    "        plt.show()\r\n",
    "\r\n",
    "def on_button3_clicked(b):\r\n",
    "    with out:\r\n",
    "        global Int1 \r\n",
    "        Int1 = Int1 + 1\r\n",
    "        a = np.array([Ext1, Ext1, Ext1, Ext2,Ext2,Ext2 ,Ext1 ,Int1 ,Ext1,Ext2, Int2, Ext2, Ext1,Ext1,Ext1 ,Ext2 ,Ext2 ,Ext2]).reshape(3, 6)\r\n",
    "        clear_output(wait=True)\r\n",
    "        plt.imshow(a, cmap = \"gray\", vmin=0, vmax=255)\r\n",
    "        plt.plot()\r\n",
    "        plt.title(\"Stop the cell when you see both squares with the same color\")\r\n",
    "        plt.show()\r\n",
    "\r\n",
    "def on_button4_clicked(b):\r\n",
    "    with out:\r\n",
    "        global Int1 \r\n",
    "        Int1 = Int1 + 5\r\n",
    "        a = np.array([Ext1, Ext1, Ext1, Ext2,Ext2,Ext2 ,Ext1 ,Int1 ,Ext1,Ext2, Int2, Ext2, Ext1,Ext1,Ext1 ,Ext2 ,Ext2 ,Ext2]).reshape(3, 6)\r\n",
    "        clear_output(wait=True)\r\n",
    "        plt.imshow(a, cmap = \"gray\", vmin=0, vmax=255)\r\n",
    "        plt.plot()\r\n",
    "        plt.title(\"Stop the cell when you see both squares with the same color\")\r\n",
    "        plt.show()\r\n",
    "\r\n",
    "def on_button5_clicked(b):\r\n",
    "    with out:\r\n",
    "        global Int1 \r\n",
    "        clear_output(wait=True)\r\n",
    "        print(\"The value was: \" + str(Int1) + \" compare that with 127\")\r\n",
    "        \r\n",
    "\r\n",
    "button1.on_click(on_button1_clicked)\r\n",
    "button2.on_click(on_button2_clicked)\r\n",
    "button3.on_click(on_button3_clicked)\r\n",
    "button4.on_click(on_button4_clicked)\r\n",
    "button5.on_click(on_button5_clicked)\r\n",
    "\r\n",
    "left_box2 = VBox([button1])\r\n",
    "left_box1 = VBox([button2])\r\n",
    "central = VBox([button5])\r\n",
    "right_box1 = VBox([button3])\r\n",
    "right_box2 = VBox([button4])\r\n",
    "print(\"Hi, select some button (not the finish one) to start :D\")\r\n",
    "HBox([left_box2, left_box1, central, right_box1, right_box2, out])"
   ]
  },
  {
   "cell_type": "markdown",
   "metadata": {},
   "source": [
    "## Resultados\n",
    "\n",
    "Los resultados de este experimento fueron los siguientes:\n",
    "\n",
    "| Número de prueba | Sujeto 1 | Sujeto 2 | Sujeto 3 |\n",
    "|:----------------:|:--------:|:--------:|:--------:|\n",
    "|         1        |    102   |    100   |   108    |\n",
    "|         2        |    103   |    112   |    97    |\n",
    "|         3        |    112   |    105   |   103    |\n",
    "\n",
    "Cabe destacar que en este experimento fue dificil encontrar un valor en el que los sujetos consideren que ambos cuadrados centrales eran iguales, siempre se los veía diferentes entre sí."
   ]
  },
  {
   "cell_type": "markdown",
   "metadata": {},
   "source": [
    "## Modificación manual\n",
    "\n",
    "El siguiente experimento es similar a los 2 previos solo que en este caso se parte de un valor desconocido en el cuadrado central de la derecha (el que puede ser modificado por el usuario). Para eso se provee la misma interfaz gráfica de usuario (GUI) que para los otros ejercicios, con 5 botones como en el caso anterior, que permiten el ajuste grueso y fino de la luminancia hacia arriba y hacia abajo y un boton para finalizar el experimento cuando se considera que ambos botones presentan un mismo valor de luminancia aparente."
   ]
  },
  {
   "cell_type": "code",
   "execution_count": 8,
   "metadata": {},
   "outputs": [
    {
     "name": "stdout",
     "output_type": "stream",
     "text": [
      "Hi, select some button (not the finish one) to start :D\n"
     ]
    },
    {
     "data": {
      "application/vnd.jupyter.widget-view+json": {
       "model_id": "b34fa9c580364b2aa072b8afacae540b",
       "version_major": 2,
       "version_minor": 0
      },
      "text/plain": [
       "HBox(children=(VBox(children=(Button(description='Down (-5)', style=ButtonStyle()),)), VBox(children=(Button(d…"
      ]
     },
     "metadata": {},
     "output_type": "display_data"
    }
   ],
   "source": [
    "import ipywidgets as widgets\r\n",
    "import matplotlib.pyplot as plt\r\n",
    "import numpy as np\r\n",
    "from IPython.display import clear_output\r\n",
    "import time\r\n",
    "from ipywidgets import Button, HBox, VBox\r\n",
    "from random import randint\r\n",
    "\r\n",
    "Ext1 = 63\r\n",
    "Ext2 = 223\r\n",
    "Int1 = 127\r\n",
    "Int2 = randint(0,255)\r\n",
    "\r\n",
    "button1 = widgets.Button(description='Down (-5)')\r\n",
    "button2 = widgets.Button(description='Down (-1)')\r\n",
    "button5 = widgets.Button(description='Finish')\r\n",
    "button3 = widgets.Button(description='Up (+1)')\r\n",
    "button4 = widgets.Button(description='Up (+5)')\r\n",
    "out = widgets.Output()\r\n",
    "\r\n",
    "def on_button1_clicked(b):\r\n",
    "    with out:\r\n",
    "        global Int2 \r\n",
    "        Int2 = Int2 - 5\r\n",
    "        a = np.array([Ext1, Ext1, Ext1, Ext2,Ext2,Ext2 ,Ext1 ,Int1 ,Ext1,Ext2, Int2, Ext2, Ext1,Ext1,Ext1 ,Ext2 ,Ext2 ,Ext2]).reshape(3, 6)\r\n",
    "        clear_output(wait=True)\r\n",
    "        plt.imshow(a, cmap = \"gray\", vmin=0, vmax=255)\r\n",
    "        plt.plot()\r\n",
    "        plt.title(\"Stop the cell when you see both squares with the same color\")\r\n",
    "        plt.show()\r\n",
    "\r\n",
    "def on_button2_clicked(b):\r\n",
    "    with out:\r\n",
    "        global Int2 \r\n",
    "        Int2 = Int2 - 1\r\n",
    "        a = np.array([Ext1, Ext1, Ext1, Ext2,Ext2,Ext2 ,Ext1 ,Int1 ,Ext1,Ext2, Int2, Ext2, Ext1,Ext1,Ext1 ,Ext2 ,Ext2 ,Ext2]).reshape(3, 6)\r\n",
    "        clear_output(wait=True)\r\n",
    "        plt.imshow(a, cmap = \"gray\", vmin=0, vmax=255)\r\n",
    "        plt.plot()\r\n",
    "        plt.title(\"Stop the cell when you see both squares with the same color\")\r\n",
    "        plt.show()\r\n",
    "\r\n",
    "def on_button3_clicked(b):\r\n",
    "    with out:\r\n",
    "        global Int2 \r\n",
    "        Int2 = Int2 + 1\r\n",
    "        a = np.array([Ext1, Ext1, Ext1, Ext2,Ext2,Ext2 ,Ext1 ,Int1 ,Ext1,Ext2, Int2, Ext2, Ext1,Ext1,Ext1 ,Ext2 ,Ext2 ,Ext2]).reshape(3, 6)\r\n",
    "        clear_output(wait=True)\r\n",
    "        plt.imshow(a, cmap = \"gray\", vmin=0, vmax=255)\r\n",
    "        plt.plot()\r\n",
    "        plt.title(\"Stop the cell when you see both squares with the same color\")\r\n",
    "        plt.show()\r\n",
    "\r\n",
    "def on_button4_clicked(b):\r\n",
    "    with out:\r\n",
    "        global Int2 \r\n",
    "        Int2 = Int2 + 5\r\n",
    "        a = np.array([Ext1, Ext1, Ext1, Ext2,Ext2,Ext2 ,Ext1 ,Int1 ,Ext1,Ext2, Int2, Ext2, Ext1,Ext1,Ext1 ,Ext2 ,Ext2 ,Ext2]).reshape(3, 6)\r\n",
    "        clear_output(wait=True)\r\n",
    "        plt.imshow(a, cmap = \"gray\", vmin=0, vmax=255)\r\n",
    "        plt.plot()\r\n",
    "        plt.title(\"Stop the cell when you see both squares with the same color\")\r\n",
    "        plt.show()\r\n",
    "\r\n",
    "def on_button5_clicked(b):\r\n",
    "    with out:\r\n",
    "        global Int2 \r\n",
    "        clear_output(wait=True)\r\n",
    "        print(\"The value was: \" + str(Int2) + \" compare that with 127\")\r\n",
    "        \r\n",
    "\r\n",
    "button1.on_click(on_button1_clicked)\r\n",
    "button2.on_click(on_button2_clicked)\r\n",
    "button3.on_click(on_button3_clicked)\r\n",
    "button4.on_click(on_button4_clicked)\r\n",
    "button5.on_click(on_button5_clicked)\r\n",
    "\r\n",
    "left_box2 = VBox([button1])\r\n",
    "left_box1 = VBox([button2])\r\n",
    "central = VBox([button5])\r\n",
    "right_box1 = VBox([button3])\r\n",
    "right_box2 = VBox([button4])\r\n",
    "print(\"Hi, select some button (not the finish one) to start :D\")\r\n",
    "HBox([left_box2, left_box1, central, right_box1, right_box2, out])"
   ]
  },
  {
   "cell_type": "markdown",
   "metadata": {},
   "source": [
    "## Resultados\n",
    "\n",
    "Los resultados de este experimento fueron los siguientes:\n",
    "\n",
    "| Número de prueba | Sujeto 1 | Sujeto 2 | Sujeto 3 |\n",
    "|:----------------:|:--------:|:--------:|:--------:|\n",
    "|         1        |    159   |    143   |    147   |\n",
    "|         2        |    156   |    157   |    151   |\n",
    "|         3        |    140   |    150   |    143   | "
   ]
  },
  {
   "cell_type": "markdown",
   "metadata": {},
   "source": [
    "# Mismo fondo\r\n",
    "\r\n",
    "En este experimento se le pide a los encuestados que utilicen el mismo color de fondo para ambos cuadrados. De esta manera luego se podrán en principio hacer consideraciones sobre si la diferencia de color de fondo impacta en la percepcion de las luminancias."
   ]
  },
  {
   "cell_type": "code",
   "execution_count": 9,
   "metadata": {},
   "outputs": [
    {
     "name": "stdout",
     "output_type": "stream",
     "text": [
      "Hi, select some button (not the finish one) to start :D\n"
     ]
    },
    {
     "data": {
      "application/vnd.jupyter.widget-view+json": {
       "model_id": "9323bbc1a1cf4c47acab780b464ea9ab",
       "version_major": 2,
       "version_minor": 0
      },
      "text/plain": [
       "HBox(children=(VBox(children=(Button(description='Down (-5)', style=ButtonStyle()),)), VBox(children=(Button(d…"
      ]
     },
     "metadata": {},
     "output_type": "display_data"
    }
   ],
   "source": [
    "import ipywidgets as widgets\r\n",
    "import matplotlib.pyplot as plt\r\n",
    "import numpy as np\r\n",
    "from IPython.display import clear_output\r\n",
    "import time\r\n",
    "from ipywidgets import Button, HBox, VBox\r\n",
    "from random import randint\r\n",
    "\r\n",
    "Ext1 = 90\r\n",
    "Ext2 = 90\r\n",
    "Int1 = 127\r\n",
    "Int2 = randint(0,255)\r\n",
    "\r\n",
    "button1 = widgets.Button(description='Down (-5)')\r\n",
    "button2 = widgets.Button(description='Down (-1)')\r\n",
    "button5 = widgets.Button(description='Finish')\r\n",
    "button3 = widgets.Button(description='Up (+1)')\r\n",
    "button4 = widgets.Button(description='Up (+5)')\r\n",
    "out = widgets.Output()\r\n",
    "\r\n",
    "def on_button1_clicked(b):\r\n",
    "    with out:\r\n",
    "        global Int2 \r\n",
    "        Int2 = Int2 - 5\r\n",
    "        a = np.array([Ext1, Ext1, Ext1, Ext2,Ext2,Ext2 ,Ext1 ,Int1 ,Ext1,Ext2, Int2, Ext2, Ext1,Ext1,Ext1 ,Ext2 ,Ext2 ,Ext2]).reshape(3, 6)\r\n",
    "        clear_output(wait=True)\r\n",
    "        plt.imshow(a, cmap = \"gray\", vmin=0, vmax=255)\r\n",
    "        plt.plot()\r\n",
    "        plt.title(\"Stop the cell when you see both squares with the same color\")\r\n",
    "        plt.show()\r\n",
    "\r\n",
    "def on_button2_clicked(b):\r\n",
    "    with out:\r\n",
    "        global Int2 \r\n",
    "        Int2 = Int2 - 1\r\n",
    "        a = np.array([Ext1, Ext1, Ext1, Ext2,Ext2,Ext2 ,Ext1 ,Int1 ,Ext1,Ext2, Int2, Ext2, Ext1,Ext1,Ext1 ,Ext2 ,Ext2 ,Ext2]).reshape(3, 6)\r\n",
    "        clear_output(wait=True)\r\n",
    "        plt.imshow(a, cmap = \"gray\", vmin=0, vmax=255)\r\n",
    "        plt.plot()\r\n",
    "        plt.title(\"Stop the cell when you see both squares with the same color\")\r\n",
    "        plt.show()\r\n",
    "\r\n",
    "def on_button3_clicked(b):\r\n",
    "    with out:\r\n",
    "        global Int2 \r\n",
    "        Int2 = Int2 + 1\r\n",
    "        a = np.array([Ext1, Ext1, Ext1, Ext2,Ext2,Ext2 ,Ext1 ,Int1 ,Ext1,Ext2, Int2, Ext2, Ext1,Ext1,Ext1 ,Ext2 ,Ext2 ,Ext2]).reshape(3, 6)\r\n",
    "        clear_output(wait=True)\r\n",
    "        plt.imshow(a, cmap = \"gray\", vmin=0, vmax=255)\r\n",
    "        plt.plot()\r\n",
    "        plt.title(\"Stop the cell when you see both squares with the same color\")\r\n",
    "        plt.show()\r\n",
    "\r\n",
    "def on_button4_clicked(b):\r\n",
    "    with out:\r\n",
    "        global Int2 \r\n",
    "        Int2 = Int2 + 5\r\n",
    "        a = np.array([Ext1, Ext1, Ext1, Ext2,Ext2,Ext2 ,Ext1 ,Int1 ,Ext1,Ext2, Int2, Ext2, Ext1,Ext1,Ext1 ,Ext2 ,Ext2 ,Ext2]).reshape(3, 6)\r\n",
    "        clear_output(wait=True)\r\n",
    "        plt.imshow(a, cmap = \"gray\", vmin=0, vmax=255)\r\n",
    "        plt.plot()\r\n",
    "        plt.title(\"Stop the cell when you see both squares with the same color\")\r\n",
    "        plt.show()\r\n",
    "\r\n",
    "def on_button5_clicked(b):\r\n",
    "    with out:\r\n",
    "        global Int2 \r\n",
    "        clear_output(wait=True)\r\n",
    "        print(\"The value was: \" + str(Int2) + \" compare that with 127\")\r\n",
    "        \r\n",
    "\r\n",
    "button1.on_click(on_button1_clicked)\r\n",
    "button2.on_click(on_button2_clicked)\r\n",
    "button3.on_click(on_button3_clicked)\r\n",
    "button4.on_click(on_button4_clicked)\r\n",
    "button5.on_click(on_button5_clicked)\r\n",
    "\r\n",
    "left_box2 = VBox([button1])\r\n",
    "left_box1 = VBox([button2])\r\n",
    "central = VBox([button5])\r\n",
    "right_box1 = VBox([button3])\r\n",
    "right_box2 = VBox([button4])\r\n",
    "print(\"Hi, select some button (not the finish one) to start :D\")\r\n",
    "HBox([left_box2, left_box1, central, right_box1, right_box2, out])"
   ]
  },
  {
   "cell_type": "markdown",
   "metadata": {},
   "source": [
    "## Resultados\n",
    "\n",
    "Los resultados de este experimento fueron los siguientes:\n",
    "\n",
    "| Número de prueba | Sujeto 1 | Sujeto 2 | Sujeto 3 |\n",
    "|:----------------:|:--------:|:--------:|:--------:|\n",
    "|         1        |    127   |    125   |    124   |\n",
    "|         2        |    129   |    126   |    124   |\n",
    "|         3        |    125   |    125   |    124   | "
   ]
  },
  {
   "cell_type": "markdown",
   "metadata": {},
   "source": [
    "# Conclusiones\r\n",
    "\r\n",
    "Podemos concluir que a lo largo de todos los experimentos los sujetos tuvieron dificultades para encontrar el valor real que era igual en ambos cuadrados, esto se debe principalmente al color de fondo de los cuadrados, estos imposibilitan la facil deteccion del valor de la luminancia correcta en los cuadrados centrales. Esto se puede comprobar de forma facil luego de ver los resultados del ultimo experimento con los fondos del mismo color, en ese caso las personas podian identificar los colores sin problemas, siendo ademas muy consistentes en cada uno de los intentos realizados (poca varianza). \r\n",
    "\r\n",
    "Luego en particular podemos notar ciertas diferencias entre los experimentos realizados, entre el primero y el segundo vemos que existen sujetos que les es mas facil seleccionar la luminancia correcta cuando se va de blanco a negro que cuando se va de negro a blanco, pero por lo que se puede ver esto depende del sujeto en cuestión que consistentemente muestra facilidad para uno de ambos y no el otro.\r\n",
    "\r\n",
    "Tambien podemos notar en la segunda parte que a la hora de modificar los cuadrados tanto si se modifica manualmente el cuadrado de la izquierda como el de la derecha, los errores en valor absoluto son aproximadamente iguales para el mismo sujeto de estudio, pero son practicamente opuestos en signo. Esto habla de la importancia del fondo en la toma de la decision de la luminancia para que ambos cuadrados se vean iguales."
   ]
  }
 ],
 "metadata": {
  "interpreter": {
   "hash": "bd7a535d46b7aa008d44ee5b600c6aa613fb15ae5cfe07760d79600a0f835fc4"
  },
  "kernelspec": {
   "display_name": "Python 3",
   "language": "python",
   "name": "python3"
  },
  "language_info": {
   "codemirror_mode": {
    "name": "ipython",
    "version": 3
   },
   "file_extension": ".py",
   "mimetype": "text/x-python",
   "name": "python",
   "nbconvert_exporter": "python",
   "pygments_lexer": "ipython3",
   "version": "3.9.2"
  }
 },
 "nbformat": 4,
 "nbformat_minor": 4
}
