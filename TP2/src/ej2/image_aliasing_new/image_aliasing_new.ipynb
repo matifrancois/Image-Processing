{
 "cells": [
  {
   "cell_type": "markdown",
   "id": "plain-joseph",
   "metadata": {},
   "source": [
    "# Procesamiento de Imágenes - Trabajo Práctico N°2\n",
    "## Grupo 3\n",
    "* Santiago Arribere\n",
    "* Matías Francois\n",
    "* Joaquín Gaytan\n",
    "* Pablo Scheinfeld\n",
    "\n",
    "## Ejercicio 2 - *image_aliasing_new.m*\n",
    "En esta notebook se realiza el análisis del código *image_aliasing_new.m* suministrado por la cátedra, previa traducción del mismo a Python."
   ]
  },
  {
   "cell_type": "code",
   "execution_count": 4,
   "id": "secondary-study",
   "metadata": {},
   "outputs": [],
   "source": [
    "import numpy as np\n",
    "import matplotlib.pyplot as plt\n",
    "import cv2 as cv"
   ]
  },
  {
   "cell_type": "code",
   "execution_count": 5,
   "id": "removed-greensboro",
   "metadata": {},
   "outputs": [
    {
     "name": "stdout",
     "output_type": "stream",
     "text": [
      "(580, 720)\n",
      "Wall time: 14 ms\n"
     ]
    }
   ],
   "source": [
    "%%time\n",
    "# Open image\n",
    "f = plt.imread('../../../assets/barbara.gif')\n",
    "f = cv.cvtColor(f, cv.COLOR_BGR2GRAY)\n",
    "print(f.shape)\n",
    "ysize, xsize = f.shape"
   ]
  },
  {
   "cell_type": "code",
   "execution_count": 6,
   "id": "brutal-canadian",
   "metadata": {},
   "outputs": [
    {
     "name": "stdout",
     "output_type": "stream",
     "text": [
      "Wall time: 7.93 s\n"
     ]
    }
   ],
   "source": [
    "%%time\n",
    "# Create .avi files using motion-jpeg codec (same used in MATLAB VideoWriter by default.\n",
    "mov_pics = cv.VideoWriter('aliasing_pics.avi', cv.VideoWriter_fourcc('M','J','P','G'), 10, (xsize, ysize))\n",
    "mov_specs = cv.VideoWriter('aliasing_specs.avi', cv.VideoWriter_fourcc('M','J','P','G'), 10, (xsize, ysize))\n",
    "\n",
    "for xshrink in range(0,605,5): \n",
    "    \n",
    "    # Shrinking image based on x axis\n",
    "    desiredxsize = xsize-xshrink\n",
    "    \n",
    "    # Compute desired scale\n",
    "    scale_shrink = desiredxsize / xsize\n",
    "    \n",
    "    # Perform image downsampling (shrinking)\n",
    "    f2 = cv.resize(f, (int(scale_shrink * xsize), int(scale_shrink*ysize)))\n",
    "    \n",
    "    # Video upsampling to get original image size (fixed size)\n",
    "    f3 = cv.resize(f2, (xsize, ysize))\n",
    "    \n",
    "    # Compute image FFT\n",
    "    Fd = np.fft.fftshift(np.log(1+np.abs(np.fft.fft2(f3)))) \n",
    "\n",
    "    # Convert images to frames\n",
    "    fr = cv.cvtColor(f3, cv.COLOR_GRAY2BGR)\n",
    "    Fdr = cv.cvtColor(np.uint8(256*Fd/np.max(np.max(Fd))), cv.COLOR_GRAY2BGR)\n",
    "    \n",
    "    # Write frame to movie\n",
    "    mov_pics.write(fr)\n",
    "    mov_specs.write(Fdr)\n",
    "\n",
    "# Close video files    \n",
    "mov_pics.release()\n",
    "mov_specs.release()\n",
    "cv.destroyAllWindows()    "
   ]
  },
  {
   "cell_type": "markdown",
   "id": "charged-factory",
   "metadata": {},
   "source": [
    "El código anterior busca mostrar la incidencia del aliasing producido al realizar el downsampling de una imagen determinada. Para observar este efecto, se emplea la imagen *barbara.gif* como ejemplo. Dentro del loop, se toma la imagen y se le realizan dos operaciones: en primer lugar, se hace un downsampling de la imagen (es decir, se achican sus dimensiones), perdiendo información. A continuación, se aplica un upsampling a esta imagen más pequeña, contemplando una escala tal que el resultado sea del mismo tamaño de la imagen original. De esta forma, se obtiene una imagen de igual tamaño, pero con menor información respecto de la imagen original. Por último, se convierte a la imagen en un frame y se agrega al archivo de video denominado *aliasing_pics.avi*. Además, se computa su FFT y se guarda en el archivo *aliasing_specs.avi*.\n",
    "\n",
    "A medida que avanza el for loop, se emplean factores de escalamiento más pequeños, configurando un downsampling más agresivo. Esto se traduce en una pérdida de información cada vez mayor, siendo más evidente la influencia del aliasing. Este efecto se manifiesta mediante la aparición de artefactos (como por ejemplo patrones de Moire) en la imagen. Estos artefactos son más en aquellas zonas de la imagen que contienen componentes de alta frecuencia (como por ejemplo, el patrón que posee el mantel de la mesa o el entramado de la silla). Por el contrario, si se observa el brazo de la mujer no se podrán observar efectos de aliasing sobresalientes, dado que esta zona no presenta frecuencias altas en su espectro.\n",
    "\n",
    "Respecto de la sucesión de espectros contenida en *aliasing_specs.avi* se aprecia que comienzan a aparecer repeticiones del espectro original. Esto sucede dado que al realizar el downsampling aparece una superposición de espectreos producida por la presencia de componentes por encima de la nueva frecuencia de Nyquist. Al realizar upsampling sobre esto, se maximiza el efecto de distorsión."
   ]
  }
 ],
 "metadata": {
  "kernelspec": {
   "display_name": "Python 3",
   "language": "python",
   "name": "python3"
  },
  "language_info": {
   "codemirror_mode": {
    "name": "ipython",
    "version": 3
   },
   "file_extension": ".py",
   "mimetype": "text/x-python",
   "name": "python",
   "nbconvert_exporter": "python",
   "pygments_lexer": "ipython3",
   "version": "3.9.2"
  }
 },
 "nbformat": 4,
 "nbformat_minor": 5
}
