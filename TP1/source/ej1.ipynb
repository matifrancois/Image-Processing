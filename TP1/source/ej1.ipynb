{
 "cells": [
  {
   "cell_type": "markdown",
   "id": "american-internship",
   "metadata": {},
   "source": [
    "# Procesamiento de Imágenes - Trabajo Práctico N°1\n",
    "## Grupo 3\n",
    "* Santiago Arribere\n",
    "* Matías Francois\n",
    "* Joaquín Gaytan\n",
    "* Pablo Scheinfeld\n",
    "\n",
    "## Ejercicio 1\n",
    "Modelamos el ojo como un sistema lente sensor Podemos simplificar nuestro modelo\n",
    "asumiendo que el “sensor” está compuesto por los conos, con una densidad constante de\n",
    "150000 elementos por mm2 , y posee un área de 1.5mm x 1.5mm.\n",
    "Suponiendo que dejamos de ver algo cuando el área de la imagen del objeto se hace menor\n",
    "que el tamaño de un cono del sensor, calcular el tamaño del menor punto visible sobre una\n",
    "panta l la de LCD de un celular que se encuentra a 30 cm de nuestros ojos. Comparar este\n",
    "resultado con el tamaño de los pixeles en los teléfonos modernos."
   ]
  },
  {
   "cell_type": "markdown",
   "id": "educational-football",
   "metadata": {},
   "source": [
    "# Resolución"
   ]
  },
  {
   "cell_type": "markdown",
   "id": "framed-museum",
   "metadata": {},
   "source": [
    "Se parte de suponer que tanto los píxeles de la pantalla LCD como los conos (sensores) que pertenecen a la retina son cuadrados, de forma tal de simplificar los cálculos. A continuación, se modela el problema de la siguiente forma"
   ]
  },
  {
   "cell_type": "markdown",
   "id": "spiritual-engagement",
   "metadata": {},
   "source": [
    "<div style=\"text-align:center\"><img src=\"assets/ej1/diagram.png\" width=\"800\"></div>"
   ]
  },
  {
   "cell_type": "markdown",
   "id": "ordered-checklist",
   "metadata": {},
   "source": [
    "En donde:\n",
    "* $O$ es el punto focal del ojo.\n",
    "* $d'$ es la distancia entre la pantalla y el ojo (su punto focal).\n",
    "* $d$ es la distancia focal del ojo.\n",
    "* $x'$ es el alto de la pantalla LCD.\n",
    "* $x$ es el alto de la retina.\n",
    "* $\\theta$ es el ángulo formado por las líneas que componen los límites del campo de visión.\n",
    "\n",
    "Se plantea la siguiente relación trigonométrica.\n",
    "\n",
    "\\begin{equation}\n",
    "tan \\theta = \\frac{\\frac{x'}{2}}{d'} = \\frac{\\frac{x}{2}}{d}\n",
    "\\end{equation}\n",
    "\n",
    "Llegando a:\n",
    "\\begin{equation}\n",
    "x'=\\frac{d'}{d} \\cdot x \n",
    "\\end{equation}\n",
    "\n",
    "Para buscar el tamaño de cada cono, se parte de la densidad de conos en la retina.\n",
    "\n",
    "\\begin{equation}\n",
    "\\delta = 150000 \\frac{conos}{mm^2} \\Rightarrow A_{cono} \\approx \\frac{mm^2}{cono} \n",
    "\\end{equation}\n",
    "\n",
    "Como se considera al cono como un cuadrado,\n",
    "\\begin{equation}\n",
    "L_{cono} = \\sqrt{6,667 \\cdot 10^{-6} mm^2} \\approx 2,58198 \\cdot 10^{-3} mm\n",
    "\\end{equation}\n",
    "\n",
    "Reemplazamos los valores de la siguiente forma:\n",
    "* $d = 17mm$. La distancia focal del ojo varía entre 14mm y 17mm. Se toma el valor mas alto (peor caso).\n",
    "* $d' = 300mm$. Esto es dato del problema.\n",
    "* $x = L_{cono}$.\n",
    "\n",
    "\\begin{equation}\n",
    "L_{pixel}^{min} = \\frac{300}{17} \\cdot  2,58198 \\cdot 10^{-3} mm\n",
    "\\end{equation}\n",
    "\n",
    "Obteniendo la longitud mínima del pixel de forma tal que sea apreciado por el observador.\n",
    "\\begin{equation}\n",
    "L_{pixel}^{min} \\approx 45,556 \\mu m\n",
    "\\end{equation}\n"
   ]
  },
  {
   "cell_type": "markdown",
   "id": "chinese-thursday",
   "metadata": {},
   "source": [
    "## Comparación con pantallas de smartphones"
   ]
  },
  {
   "cell_type": "markdown",
   "id": "accessory-camcorder",
   "metadata": {},
   "source": [
    "A continuación se muestra una tabla con modelos actuales de smartphones y su tamaño de pixel aproximado. Para ello se toma el dato de la densidad de pixeles de la pantalla en dpi (dots per inch). Invirtiendo este valor se llega al tamaño de pixel.\n",
    "\n",
    "<div align=\"center\">\n",
    "\n",
    "|       Modelo      | Densidad de pixeles | Tamaño de pixel |\n",
    "|:-----------------:|:-------------------:|:---------------:|\n",
    "| iPhone 12 Pro Max |       458 dpi       |   55,45 $\\mu m$   |\n",
    "| Samsung S21 Ultra |       515 dpi       |   49,32 $\\mu m$   |\n",
    "| Google Pixel 5    |       432 dpi       |   58,79 $\\mu m$   |\n",
    "| OnePlus 9 Pro     |       525 dpi       |   48,38 $\\mu m$   |\n",
    "\n",
    "</div>"
   ]
  },
  {
   "cell_type": "markdown",
   "id": "promising-fitness",
   "metadata": {},
   "source": [
    "Observando la tabla y comparando con el resultado obtenido, se observa que a 30cm de distancia todavia se pueden ver los píxeles."
   ]
  }
 ],
 "metadata": {
  "kernelspec": {
   "display_name": "Python 3",
   "language": "python",
   "name": "python3"
  },
  "language_info": {
   "codemirror_mode": {
    "name": "ipython",
    "version": 3
   },
   "file_extension": ".py",
   "mimetype": "text/x-python",
   "name": "python",
   "nbconvert_exporter": "python",
   "pygments_lexer": "ipython3",
   "version": "3.9.2"
  }
 },
 "nbformat": 4,
 "nbformat_minor": 5
}
